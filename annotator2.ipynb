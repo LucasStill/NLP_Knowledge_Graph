{
 "cells": [
  {
   "cell_type": "code",
   "execution_count": 2,
   "metadata": {
    "collapsed": true
   },
   "outputs": [
    {
     "name": "stdout",
     "output_type": "stream",
     "text": [
      "Requirement already satisfied: python-docx in /Users/lucas-andreithil/mambaforge/lib/python3.9/site-packages (0.8.11)\r\n",
      "Requirement already satisfied: lxml>=2.3.2 in /Users/lucas-andreithil/mambaforge/lib/python3.9/site-packages (from python-docx) (4.6.4)\r\n",
      "Requirement already satisfied: spacy_annotator in /Users/lucas-andreithil/mambaforge/lib/python3.9/site-packages (2.1.1)\r\n",
      "Requirement already satisfied: spacy in /Users/lucas-andreithil/mambaforge/lib/python3.9/site-packages (from spacy_annotator) (3.2.0)\r\n",
      "Requirement already satisfied: ipython in /Users/lucas-andreithil/mambaforge/lib/python3.9/site-packages (from spacy_annotator) (7.29.0)\r\n",
      "Requirement already satisfied: ipywidgets>=7.5.1 in /Users/lucas-andreithil/mambaforge/lib/python3.9/site-packages (from spacy_annotator) (7.6.5)\r\n",
      "Requirement already satisfied: pandas in /Users/lucas-andreithil/mambaforge/lib/python3.9/site-packages (from spacy_annotator) (1.3.4)\r\n",
      "Requirement already satisfied: jupyterlab-widgets>=1.0.0 in /Users/lucas-andreithil/mambaforge/lib/python3.9/site-packages (from ipywidgets>=7.5.1->spacy_annotator) (1.0.2)\r\n",
      "Requirement already satisfied: ipython-genutils~=0.2.0 in /Users/lucas-andreithil/mambaforge/lib/python3.9/site-packages (from ipywidgets>=7.5.1->spacy_annotator) (0.2.0)\r\n",
      "Requirement already satisfied: traitlets>=4.3.1 in /Users/lucas-andreithil/mambaforge/lib/python3.9/site-packages (from ipywidgets>=7.5.1->spacy_annotator) (5.1.1)\r\n",
      "Requirement already satisfied: ipykernel>=4.5.1 in /Users/lucas-andreithil/mambaforge/lib/python3.9/site-packages (from ipywidgets>=7.5.1->spacy_annotator) (6.5.1)\r\n",
      "Requirement already satisfied: nbformat>=4.2.0 in /Users/lucas-andreithil/mambaforge/lib/python3.9/site-packages (from ipywidgets>=7.5.1->spacy_annotator) (5.1.3)\r\n",
      "Requirement already satisfied: widgetsnbextension~=3.5.0 in /Users/lucas-andreithil/mambaforge/lib/python3.9/site-packages (from ipywidgets>=7.5.1->spacy_annotator) (3.5.2)\r\n",
      "Requirement already satisfied: appnope in /Users/lucas-andreithil/mambaforge/lib/python3.9/site-packages (from ipython->spacy_annotator) (0.1.2)\r\n",
      "Requirement already satisfied: matplotlib-inline in /Users/lucas-andreithil/mambaforge/lib/python3.9/site-packages (from ipython->spacy_annotator) (0.1.3)\r\n",
      "Requirement already satisfied: pygments in /Users/lucas-andreithil/mambaforge/lib/python3.9/site-packages (from ipython->spacy_annotator) (2.10.0)\r\n",
      "Requirement already satisfied: backcall in /Users/lucas-andreithil/mambaforge/lib/python3.9/site-packages (from ipython->spacy_annotator) (0.2.0)\r\n",
      "Requirement already satisfied: pickleshare in /Users/lucas-andreithil/mambaforge/lib/python3.9/site-packages (from ipython->spacy_annotator) (0.7.5)\r\n",
      "Requirement already satisfied: prompt-toolkit!=3.0.0,!=3.0.1,<3.1.0,>=2.0.0 in /Users/lucas-andreithil/mambaforge/lib/python3.9/site-packages (from ipython->spacy_annotator) (3.0.22)\r\n",
      "Requirement already satisfied: pexpect>4.3 in /Users/lucas-andreithil/mambaforge/lib/python3.9/site-packages (from ipython->spacy_annotator) (4.8.0)\r\n",
      "Requirement already satisfied: decorator in /Users/lucas-andreithil/mambaforge/lib/python3.9/site-packages (from ipython->spacy_annotator) (5.1.0)\r\n",
      "Requirement already satisfied: jedi>=0.16 in /Users/lucas-andreithil/mambaforge/lib/python3.9/site-packages (from ipython->spacy_annotator) (0.18.1)\r\n",
      "Requirement already satisfied: setuptools>=18.5 in /Users/lucas-andreithil/mambaforge/lib/python3.9/site-packages (from ipython->spacy_annotator) (58.2.0)\r\n",
      "Requirement already satisfied: numpy>=1.20.0 in /Users/lucas-andreithil/mambaforge/lib/python3.9/site-packages (from pandas->spacy_annotator) (1.21.4)\r\n",
      "Requirement already satisfied: pytz>=2017.3 in /Users/lucas-andreithil/mambaforge/lib/python3.9/site-packages (from pandas->spacy_annotator) (2021.3)\r\n",
      "Requirement already satisfied: python-dateutil>=2.7.3 in /Users/lucas-andreithil/mambaforge/lib/python3.9/site-packages (from pandas->spacy_annotator) (2.8.2)\r\n",
      "Requirement already satisfied: cymem<2.1.0,>=2.0.2 in /Users/lucas-andreithil/mambaforge/lib/python3.9/site-packages (from spacy->spacy_annotator) (2.0.6)\r\n",
      "Requirement already satisfied: thinc<8.1.0,>=8.0.12 in /Users/lucas-andreithil/mambaforge/lib/python3.9/site-packages (from spacy->spacy_annotator) (8.0.13)\r\n",
      "Requirement already satisfied: catalogue<2.1.0,>=2.0.6 in /Users/lucas-andreithil/mambaforge/lib/python3.9/site-packages (from spacy->spacy_annotator) (2.0.6)\r\n",
      "Requirement already satisfied: requests<3.0.0,>=2.13.0 in /Users/lucas-andreithil/mambaforge/lib/python3.9/site-packages (from spacy->spacy_annotator) (2.26.0)\r\n",
      "Requirement already satisfied: packaging>=20.0 in /Users/lucas-andreithil/mambaforge/lib/python3.9/site-packages (from spacy->spacy_annotator) (21.2)\r\n",
      "Requirement already satisfied: wasabi<1.1.0,>=0.8.1 in /Users/lucas-andreithil/mambaforge/lib/python3.9/site-packages (from spacy->spacy_annotator) (0.8.2)\r\n",
      "Requirement already satisfied: spacy-legacy<3.1.0,>=3.0.8 in /Users/lucas-andreithil/mambaforge/lib/python3.9/site-packages (from spacy->spacy_annotator) (3.0.8)\r\n",
      "Requirement already satisfied: typer<0.5.0,>=0.3.0 in /Users/lucas-andreithil/mambaforge/lib/python3.9/site-packages (from spacy->spacy_annotator) (0.4.0)\r\n",
      "Requirement already satisfied: spacy-loggers<2.0.0,>=1.0.0 in /Users/lucas-andreithil/mambaforge/lib/python3.9/site-packages (from spacy->spacy_annotator) (1.0.1)\r\n",
      "Requirement already satisfied: murmurhash<1.1.0,>=0.28.0 in /Users/lucas-andreithil/mambaforge/lib/python3.9/site-packages (from spacy->spacy_annotator) (1.0.6)\r\n",
      "Requirement already satisfied: pydantic!=1.8,!=1.8.1,<1.9.0,>=1.7.4 in /Users/lucas-andreithil/mambaforge/lib/python3.9/site-packages (from spacy->spacy_annotator) (1.8.2)\r\n",
      "Requirement already satisfied: jinja2 in /Users/lucas-andreithil/mambaforge/lib/python3.9/site-packages (from spacy->spacy_annotator) (3.0.2)\r\n",
      "Requirement already satisfied: langcodes<4.0.0,>=3.2.0 in /Users/lucas-andreithil/mambaforge/lib/python3.9/site-packages (from spacy->spacy_annotator) (3.2.1)\r\n",
      "Requirement already satisfied: tqdm<5.0.0,>=4.38.0 in /Users/lucas-andreithil/mambaforge/lib/python3.9/site-packages (from spacy->spacy_annotator) (4.62.3)\r\n",
      "Requirement already satisfied: preshed<3.1.0,>=3.0.2 in /Users/lucas-andreithil/mambaforge/lib/python3.9/site-packages (from spacy->spacy_annotator) (3.0.6)\r\n",
      "Requirement already satisfied: srsly<3.0.0,>=2.4.1 in /Users/lucas-andreithil/mambaforge/lib/python3.9/site-packages (from spacy->spacy_annotator) (2.4.2)\r\n",
      "Requirement already satisfied: blis<0.8.0,>=0.4.0 in /Users/lucas-andreithil/mambaforge/lib/python3.9/site-packages (from spacy->spacy_annotator) (0.7.5)\r\n",
      "Requirement already satisfied: pathy>=0.3.5 in /Users/lucas-andreithil/mambaforge/lib/python3.9/site-packages (from spacy->spacy_annotator) (0.6.1)\r\n",
      "Requirement already satisfied: tornado<7.0,>=4.2 in /Users/lucas-andreithil/mambaforge/lib/python3.9/site-packages (from ipykernel>=4.5.1->ipywidgets>=7.5.1->spacy_annotator) (6.1)\r\n",
      "Requirement already satisfied: debugpy<2.0,>=1.0.0 in /Users/lucas-andreithil/mambaforge/lib/python3.9/site-packages (from ipykernel>=4.5.1->ipywidgets>=7.5.1->spacy_annotator) (1.5.1)\r\n",
      "Requirement already satisfied: jupyter-client<8.0 in /Users/lucas-andreithil/mambaforge/lib/python3.9/site-packages (from ipykernel>=4.5.1->ipywidgets>=7.5.1->spacy_annotator) (7.1.0)\r\n",
      "Requirement already satisfied: parso<0.9.0,>=0.8.0 in /Users/lucas-andreithil/mambaforge/lib/python3.9/site-packages (from jedi>=0.16->ipython->spacy_annotator) (0.8.2)\r\n",
      "Requirement already satisfied: jupyter-core in /Users/lucas-andreithil/mambaforge/lib/python3.9/site-packages (from nbformat>=4.2.0->ipywidgets>=7.5.1->spacy_annotator) (4.9.1)\r\n",
      "Requirement already satisfied: jsonschema!=2.5.0,>=2.4 in /Users/lucas-andreithil/mambaforge/lib/python3.9/site-packages (from nbformat>=4.2.0->ipywidgets>=7.5.1->spacy_annotator) (4.2.1)\r\n",
      "Requirement already satisfied: pyparsing<3,>=2.0.2 in /Users/lucas-andreithil/mambaforge/lib/python3.9/site-packages (from packaging>=20.0->spacy->spacy_annotator) (2.4.7)\r\n",
      "Requirement already satisfied: smart-open<6.0.0,>=5.0.0 in /Users/lucas-andreithil/mambaforge/lib/python3.9/site-packages (from pathy>=0.3.5->spacy->spacy_annotator) (5.2.1)\r\n",
      "Requirement already satisfied: ptyprocess>=0.5 in /Users/lucas-andreithil/mambaforge/lib/python3.9/site-packages (from pexpect>4.3->ipython->spacy_annotator) (0.7.0)\r\n",
      "Requirement already satisfied: wcwidth in /Users/lucas-andreithil/mambaforge/lib/python3.9/site-packages (from prompt-toolkit!=3.0.0,!=3.0.1,<3.1.0,>=2.0.0->ipython->spacy_annotator) (0.2.5)\r\n",
      "Requirement already satisfied: typing-extensions>=3.7.4.3 in /Users/lucas-andreithil/mambaforge/lib/python3.9/site-packages (from pydantic!=1.8,!=1.8.1,<1.9.0,>=1.7.4->spacy->spacy_annotator) (3.10.0.2)\r\n",
      "Requirement already satisfied: six>=1.5 in /Users/lucas-andreithil/mambaforge/lib/python3.9/site-packages (from python-dateutil>=2.7.3->pandas->spacy_annotator) (1.16.0)\r\n",
      "Requirement already satisfied: charset-normalizer~=2.0.0 in /Users/lucas-andreithil/mambaforge/lib/python3.9/site-packages (from requests<3.0.0,>=2.13.0->spacy->spacy_annotator) (2.0.0)\r\n",
      "Requirement already satisfied: certifi>=2017.4.17 in /Users/lucas-andreithil/mambaforge/lib/python3.9/site-packages (from requests<3.0.0,>=2.13.0->spacy->spacy_annotator) (2021.10.8)\r\n",
      "Requirement already satisfied: idna<4,>=2.5 in /Users/lucas-andreithil/mambaforge/lib/python3.9/site-packages (from requests<3.0.0,>=2.13.0->spacy->spacy_annotator) (3.1)\r\n",
      "Requirement already satisfied: urllib3<1.27,>=1.21.1 in /Users/lucas-andreithil/mambaforge/lib/python3.9/site-packages (from requests<3.0.0,>=2.13.0->spacy->spacy_annotator) (1.25.11)\r\n",
      "Requirement already satisfied: click<9.0.0,>=7.1.1 in /Users/lucas-andreithil/mambaforge/lib/python3.9/site-packages (from typer<0.5.0,>=0.3.0->spacy->spacy_annotator) (8.0.3)\r\n",
      "Requirement already satisfied: notebook>=4.4.1 in /Users/lucas-andreithil/mambaforge/lib/python3.9/site-packages (from widgetsnbextension~=3.5.0->ipywidgets>=7.5.1->spacy_annotator) (6.4.6)\r\n",
      "Requirement already satisfied: MarkupSafe>=2.0 in /Users/lucas-andreithil/mambaforge/lib/python3.9/site-packages (from jinja2->spacy->spacy_annotator) (2.0.1)\r\n",
      "Requirement already satisfied: pyrsistent!=0.17.0,!=0.17.1,!=0.17.2,>=0.14.0 in /Users/lucas-andreithil/mambaforge/lib/python3.9/site-packages (from jsonschema!=2.5.0,>=2.4->nbformat>=4.2.0->ipywidgets>=7.5.1->spacy_annotator) (0.18.0)\r\n",
      "Requirement already satisfied: attrs>=17.4.0 in /Users/lucas-andreithil/mambaforge/lib/python3.9/site-packages (from jsonschema!=2.5.0,>=2.4->nbformat>=4.2.0->ipywidgets>=7.5.1->spacy_annotator) (21.2.0)\r\n",
      "Requirement already satisfied: nest-asyncio>=1.5 in /Users/lucas-andreithil/mambaforge/lib/python3.9/site-packages (from jupyter-client<8.0->ipykernel>=4.5.1->ipywidgets>=7.5.1->spacy_annotator) (1.5.1)\r\n",
      "Requirement already satisfied: pyzmq>=13 in /Users/lucas-andreithil/mambaforge/lib/python3.9/site-packages (from jupyter-client<8.0->ipykernel>=4.5.1->ipywidgets>=7.5.1->spacy_annotator) (22.3.0)\r\n",
      "Requirement already satisfied: entrypoints in /Users/lucas-andreithil/mambaforge/lib/python3.9/site-packages (from jupyter-client<8.0->ipykernel>=4.5.1->ipywidgets>=7.5.1->spacy_annotator) (0.3)\r\n",
      "Requirement already satisfied: argon2-cffi in /Users/lucas-andreithil/mambaforge/lib/python3.9/site-packages (from notebook>=4.4.1->widgetsnbextension~=3.5.0->ipywidgets>=7.5.1->spacy_annotator) (21.1.0)\r\n",
      "Requirement already satisfied: nbconvert in /Users/lucas-andreithil/mambaforge/lib/python3.9/site-packages (from notebook>=4.4.1->widgetsnbextension~=3.5.0->ipywidgets>=7.5.1->spacy_annotator) (6.3.0)\r\n",
      "Requirement already satisfied: terminado>=0.8.3 in /Users/lucas-andreithil/mambaforge/lib/python3.9/site-packages (from notebook>=4.4.1->widgetsnbextension~=3.5.0->ipywidgets>=7.5.1->spacy_annotator) (0.12.1)\r\n",
      "Requirement already satisfied: prometheus-client in /Users/lucas-andreithil/mambaforge/lib/python3.9/site-packages (from notebook>=4.4.1->widgetsnbextension~=3.5.0->ipywidgets>=7.5.1->spacy_annotator) (0.12.0)\r\n",
      "Requirement already satisfied: Send2Trash>=1.8.0 in /Users/lucas-andreithil/mambaforge/lib/python3.9/site-packages (from notebook>=4.4.1->widgetsnbextension~=3.5.0->ipywidgets>=7.5.1->spacy_annotator) (1.8.0)\r\n",
      "Requirement already satisfied: cffi>=1.0.0 in /Users/lucas-andreithil/mambaforge/lib/python3.9/site-packages (from argon2-cffi->notebook>=4.4.1->widgetsnbextension~=3.5.0->ipywidgets>=7.5.1->spacy_annotator) (1.14.6)\r\n",
      "Requirement already satisfied: bleach in /Users/lucas-andreithil/mambaforge/lib/python3.9/site-packages (from nbconvert->notebook>=4.4.1->widgetsnbextension~=3.5.0->ipywidgets>=7.5.1->spacy_annotator) (4.1.0)\r\n",
      "Requirement already satisfied: testpath in /Users/lucas-andreithil/mambaforge/lib/python3.9/site-packages (from nbconvert->notebook>=4.4.1->widgetsnbextension~=3.5.0->ipywidgets>=7.5.1->spacy_annotator) (0.5.0)\r\n",
      "Requirement already satisfied: mistune<2,>=0.8.1 in /Users/lucas-andreithil/mambaforge/lib/python3.9/site-packages (from nbconvert->notebook>=4.4.1->widgetsnbextension~=3.5.0->ipywidgets>=7.5.1->spacy_annotator) (0.8.4)\r\n",
      "Requirement already satisfied: nbclient<0.6.0,>=0.5.0 in /Users/lucas-andreithil/mambaforge/lib/python3.9/site-packages (from nbconvert->notebook>=4.4.1->widgetsnbextension~=3.5.0->ipywidgets>=7.5.1->spacy_annotator) (0.5.9)\r\n",
      "Requirement already satisfied: jupyterlab-pygments in /Users/lucas-andreithil/mambaforge/lib/python3.9/site-packages (from nbconvert->notebook>=4.4.1->widgetsnbextension~=3.5.0->ipywidgets>=7.5.1->spacy_annotator) (0.1.2)\r\n",
      "Requirement already satisfied: pandocfilters>=1.4.1 in /Users/lucas-andreithil/mambaforge/lib/python3.9/site-packages (from nbconvert->notebook>=4.4.1->widgetsnbextension~=3.5.0->ipywidgets>=7.5.1->spacy_annotator) (1.5.0)\r\n",
      "Requirement already satisfied: defusedxml in /Users/lucas-andreithil/mambaforge/lib/python3.9/site-packages (from nbconvert->notebook>=4.4.1->widgetsnbextension~=3.5.0->ipywidgets>=7.5.1->spacy_annotator) (0.7.1)\r\n",
      "Requirement already satisfied: pycparser in /Users/lucas-andreithil/mambaforge/lib/python3.9/site-packages (from cffi>=1.0.0->argon2-cffi->notebook>=4.4.1->widgetsnbextension~=3.5.0->ipywidgets>=7.5.1->spacy_annotator) (2.20)\r\n",
      "Requirement already satisfied: webencodings in /Users/lucas-andreithil/mambaforge/lib/python3.9/site-packages (from bleach->nbconvert->notebook>=4.4.1->widgetsnbextension~=3.5.0->ipywidgets>=7.5.1->spacy_annotator) (0.5.1)\r\n"
     ]
    }
   ],
   "source": [
    "\n",
    "! pip install python-docx\n",
    "! pip install spacy_annotator"
   ]
  },
  {
   "cell_type": "code",
   "execution_count": 3,
   "outputs": [],
   "source": [
    "\n",
    "from docx import Document\n",
    "from os import walk\n",
    "from tqdm.notebook import tqdm\n",
    "import spacy_annotator\n",
    "import pandas as pd\n",
    "import spacy"
   ],
   "metadata": {
    "collapsed": false,
    "pycharm": {
     "name": "#%%\n"
    }
   }
  },
  {
   "cell_type": "code",
   "execution_count": 20,
   "outputs": [
    {
     "name": "stdout",
     "output_type": "stream",
     "text": [
      "135\n",
      "   Unnamed: 0                                               Text  \\\n",
      "0           0                                      THIRD SECTION   \n",
      "1           1                 CASE OF BUCEA AND BUCIA v. ROMANIA   \n",
      "2           2                         (Application no. 32185/04)   \n",
      "3           3                                           JUDGMENT   \n",
      "4           4  This version was rectified on 16 December 2014...   \n",
      "\n",
      "                                                Word  POS  \\\n",
      "0                               ['THIRD', 'SECTION']  NaN   \n",
      "1  ['CASE', 'OF', 'BUCEA', 'AND', 'BUCIA', 'v.', ...  NaN   \n",
      "2   ['(', 'Application', 'no', '.', '32185/04', ')']  NaN   \n",
      "3                                       ['JUDGMENT']  NaN   \n",
      "4  ['This', 'version', 'was', 'rectified', 'on', ...  NaN   \n",
      "\n",
      "                                                 Tag  Word_idx  \\\n",
      "0                             ['B-COURT', 'L-COURT']       NaN   \n",
      "1  ['O', 'O', 'O', 'O', 'B-CASE', 'I-CASE', 'L-CA...       NaN   \n",
      "2  ['O', 'O', 'B-APPLICATION', 'I-APPLICATION', '...       NaN   \n",
      "3                                              ['O']       NaN   \n",
      "4  ['O', 'O', 'O', 'O', 'O', 'B-DATE', 'I-DATE', ...       NaN   \n",
      "\n",
      "                                             Tag_idx  \n",
      "0                                           [37, 39]  \n",
      "1                           [0, 0, 0, 0, 41, 42, 43]  \n",
      "2                              [0, 0, 53, 54, 55, 0]  \n",
      "3                                                [0]  \n",
      "4  [0, 0, 0, 0, 0, 9, 10, 11, 0, 0, 0, 0, 0, 0, 0...  \n"
     ]
    }
   ],
   "source": [
    "\n",
    "## Do the processing for Jan's dataset\n",
    "\n",
    "data = pd.read_csv(\"../file002.csv\")\n",
    "print(len(data))\n",
    "print(data.head())\n",
    "# Load model\n",
    "nlp = spacy.load(\"en_core_web_sm\")\n"
   ],
   "metadata": {
    "collapsed": false,
    "pycharm": {
     "name": "#%%\n"
    }
   }
  },
  {
   "cell_type": "code",
   "execution_count": 5,
   "outputs": [],
   "source": [
    "\n",
    "def annotate_by_sentence2(courts, nlp):\n",
    "  annotated_data = []\n",
    "\n",
    "  # For every court\n",
    "  for court in tqdm(courts):\n",
    "    annotated_court = []\n",
    "\n",
    "    #print(court)\n",
    "\n",
    "    # Remake sentence\n",
    "\n",
    "\n",
    "    # Get all individual sentences (using spaCy tokenizer)\n",
    "    sentences = [str(x) for x in nlp(court).sents]\n",
    "\n",
    "    # For every sentence\n",
    "    for sentence in sentences:\n",
    "      annotated_sentence = []\n",
    "      for token in nlp(sentence):\n",
    "        annotated_sentence.append((token, token.ent_iob_, token.ent_type_))\n",
    "\n",
    "      # Add sentence to court list\n",
    "      annotated_court.append(annotated_sentence)\n",
    "\n",
    "    # Add court to all data\n",
    "    annotated_data.append(annotated_court)\n",
    "\n",
    "  return annotated_data\n"
   ],
   "metadata": {
    "collapsed": false,
    "pycharm": {
     "name": "#%%\n"
    }
   }
  },
  {
   "cell_type": "code",
   "execution_count": 6,
   "outputs": [
    {
     "name": "stdout",
     "output_type": "stream",
     "text": [
      "['THIRD', 'SECTION']\n",
      "['THIRD SECTION', 'CASE OF BUCEA AND BUCIA v. ROMANIA', '( Application no . 32185/04 )', 'JUDGMENT', 'This version was rectified on 16 December 2014 under Rule 81 of the Rules of Court', 'STRASBOURG', '1 July 2014', 'FINAL', '01/10/2014', 'This judgment has become final under Article 44 § 2 of the Convention . It may be subject to editorial revision .', 'In the case of Bucea and Bucia v. Romania ,', 'The European Court of Human Rights ( Third Section ) , sitting as a Chamber compomsed of :', 'Josep Casadevall , President , Alvina Gyulumyan , J n ikuta , Luis L pez Guerra , Johannes Silvis , Valeriu Gri co , Iulia Antoanella Motoc , judges , and Santiago Quesada , Section Registrar ,', 'Having deliberated in private on 10 June 2014 ,', 'Delivers the following judgment , which was adopted on that date :', 'PROCEDURE', 'The case originated in an application ( no . 32185/04 ) against Romania lodged with the Court under Article 34 of the Convention for the Protection of Human Rights and Fundamental Freedoms ( the Convention ) by two Romanian nationals , Mr Ioan Bucea and Mr Alexandru Bucia ( the applicants ) , on 15 July 2004 . The Registry was informed that the second applicant , Alexandru Bucia , had died on 6 December 2005 . His wife , Mrs Margit Bucia , and their daughter , Ms Margit Bucia , applied to continue the application in his name and appointed the same counsel to represent them . For reasons of convenience , Mr Alexandru Bucia will continue to be referred to as the \" second applicant \" , although it is now his widow and his daughter who are to be regarded as having that status ( see , inter alia , Pandolfelli and Palumbo v. Italy , 27 February 1992 , § 2 , Series A no . 231B ) .', 'The applicants were represented by Mr T. Coloja , a lawyer practising in Oradea . The Romanian Government ( the Government ) were represented by their Agent , Mrs I. Cambrea , from the Ministry of Foreign Affairs .', 'The applicants alleged under Article 1 of Protocol No . 1 to the Convention that they had been deprived of their possessions with no legitimate aim by the arbitrary dismissal of their action for the annulment of the sale of their immovable property .', 'On 28 March 2011 the application was communicated to the Government .', 'THE FACTS', 'I. THE CIRCUMSTANCES OF THE CASE', 'In 1994 the applicants father entered into a loan agreement with H.M.C. , offering a mortgage on his immovable property , a building and the appurtenant land located in Osorhei as a guarantee .', 'On 3 June 1994 , the mortgage was registered with the land registry .', 'As the applicants father did not reimburse the loan on the appointed day , his immovable property was sold at auction to a family , T.T.T. and T.T.S. , on 31 May 1996 .', 'The right of ownership of the successful bidders over the immovable property was entered in the land register .', '. On 1 July 1996 the applicants father challenged the forced sale , seeking the annulment of the order for the sale of his immovable property . The proceedings were registered with the land registry on 5 January 1998 .', 'Subsequently , on 30 December 1998 despite the pending proceedings regarding the annulment of the sale at auction , the buyers ( T.T.T. and T.T.S. ) sold the immovable property to another individual , S.R.', 'On 26 April 2000 the Oradea Court of Appeal allowed the applicants father s action and consequently annulled the forced sale of the immovable property on the ground that the loan had been reimbursed and the price was considerably lower than the real value of the property . However , he could not obtain possession of the immovable property as meanwhile it had been sold to S.R.', 'Invoking the principle quod nullum est , nullum producit effectum , he lodged an action with the Oradea District Court seeking the annulment of the two sale agreements : the agreement by which T.T.T. and T.T.S. had acquired the immovable property at auction and the subsequent agreement concluded between T.T.T. and T.T.S and S.R.', 'During the proceedings , the applicants father died and he was replaced by the applicants as his heirs .', 'On 25 October 2001 the Oradea District Court dismissed the civil action on the ground that the last buyer , S.R. , had acquired the immovable property in good faith .', 'The applicants lodged an appeal , claiming that S.R. had not bought the property in good faith . They submitted that S.R. had been aware of the proceedings initiated by their father for the annulment of the forced sale as they had been entered in the land register . The appeal was allowed by a decision of the Bihor County Court delivered on 22 May 2003 on the ground that the annulment of the forced sale should have resulted in the annulment of all other subsequent acts concluded by persons aware of the annulment .', 'On 8 April 2004 the Oradea Court of Appeal allowed an appeal on points of law lodged by the buyers on the ground that the last buyer , S.R. , had entered into the contract in good faith . The reasoning of the appeal court concerning the buyer s good faith reads as follows :', 'In the instant case , as can be seen from the contract itself , sworn before a public notary , the sale contract had been concluded a long time before its signing before the public notary , the price being fixed by the parties and paid in full on 9 October 1996 ; at that date there was no element from which it could be inferred that the buyer acted with fraudulent intent .', 'The decision contained a dissenting opinion by one of the three judges , who maintained that even though the proceedings initiated by the applicants father for the annulment of the forced sale - and consequently the sale of his immovable property to T.T.T. and T.T.S. - had been entered in the land register on 5 January 1998 , only on 30 December 1998 had the latter sold the immovable property to S.R. Besides , T.T.T. and T.T.S had been parties to the annulment proceedings initiated by the applicants father .', 'The relevant part of the dissenting opinion reads as follows :', 'The defendants ( T.T.T. and T.T.S. ) had known since 1996 that the immovable property they had bought at public auction was the subject of proceedings as they were parties to the proceedings . The buyer , S.R. , was also aware of the proceedings as in the sale agreement signed on 30 December 1999 , sworn before a public notary , it was expressly stated that the immovable property was the subject of trial no . 6558/1996 of the Oradea District Court .', '...', 'The fact that the parties had inserted in the sale agreement that the price had been paid on 9 October 1996 is not relevant as long as the transfer of property from the seller to the buyer had only taken place on 30 December 1998 , the date on which the parties had signed the contract before a public notary , after the proceedings had been entered in the land registry ....', 'Moreover , according to the documents in the file it appears that none of the defendants had possession of the immovable property . They had initiated several eviction proceedings against the plaintiffs , who had refused to leave the property .', 'II . RELEVANT DOMESTIC LAW AND CASE - LAW', 'A. Case - law concerning good faith', 'The relevant case - law regarding the definition and the burden of proof of good faith are described in P duraru v. Romania ( no . 63252/00 , § § 49 - 53 , ECHR 2005XII ) .', 'B. Law no.7/1996 on the cadastre and real estate publicity', 'In the context of Law no . 7/1996 the cadastre and the land register form a unitary and compulsory system of technical , economic and legal records , of domestic importance , of all immovable property throughout the country s territory , having as goals : to determine the technical , economic and legal information regarding property ; to provide notice to interested parties in respect of real estate on the basis of documents which have established , transferred , modified or extinguished rights relating to the property ; to support the tax system and the housing market , and to help to ensure the security of real - estate transactions and facilitate mortgage loans .', '21 . For the purpose of notice to interested parties , real estate is registered in land books . Each individual land book makes reference to a title , indicating the registry s identification number and the locality where the real estate is located , as well as three main parts :', 'a ) Part I contains the description of the real estate ;', 'b ) Part II evidences the name of the owner , the ownership title over the real estate , related easements , as well as other registrations related to the ownership title ;', 'c ) Part III refers to the rights temporarily granted to third parties ( such as occupancy , leases , easements , encumbrances , information concerning litigation and or / personal prohibitions .', '22 . According to Article 34 of the law , the content of the land book shall be considered exact , to the benefit of the person having acquired a real right by a juridical act , with certain obligations , if at the moment of the right s acquisition no action has been entered in the land register , contesting its content , or if it has not known this inaccuracy in another way .', '23 . Article 56 of the law provides that the public notary having drawn up a deed by which a real real - estate right is transmitted , modified , constituted , or extinguished shall be obliged to request , ex officio , the inscription in the land register .', 'C. Provisions concerning the conclusion of a sale agreement of land', '24 . Under Romanian law a sale agreement of land becomes legally binding between the parties once authenticated by the public notary . Any contract regarding the transfer of the ownership right over land which has not been sworn before a public notary is null and void .', '25 . For the authentication of the transfer deed having as object the real estate , the public notary needs an excerpt of the land book . In order to obtain this excerpt from the Land Registry Office , the public notary must submit to the relevant land registry office an application form , accompanied by the proof regarding the payment of the issuance fee .', 'THE LAW', 'I. ALLEGED VIOLATION OF ARTICLE 1 OF PROTOCOL No . 1 TO THE CONVENTION', 'The applicants complained that in spite of the annulment of the sale of their immovable property at auction they were not able to obtain the annulment of its subsequent sale to a third party owing to an arbitrary decision rendered by the Oradea Court of Appeal on 8 April 2004 .', 'They relied on Article 1 of Protocol No . 1 to the Convention , which reads as follows :', 'Every natural or legal person is entitled to the peaceful enjoyment of his possessions . No one shall be deprived of his possessions except in the public interest and subject to the conditions provided for by law and by the general principles of international law .', 'The preceding provisions shall not , however , in any way impair the right of a State to enforce such laws as it deems necessary to control the use of property in accordance with the general interest or to secure the payment of taxes or other contributions or penalties .', 'A. Admissibility', 'The Government argued that the complaint was incompatible ratione materiae with the Convention , as the applicants had not proved that they had any possessions within the meaning of Article 1 of Protocol No . 1 .', 'The applicants did not agree with the Government .', 'The Court considers that the objection is closely linked to the merits of the applicants complaint . It will therefore deal with the objection in its examination of the merits below . It also notes that this complaint is not manifestly ill - founded within the meaning of Article 35 § 3 ( a ) of the Convention and it is not inadmissible on any other grounds . It must therefore be declared admissible .', 'B. Merits', '1 . The parties submissions', 'The applicants alleged that the sale of their immovable property to a third party who had acted in bad faith , upheld by the decision of 8 April 2004 of the Oradea Court of Appeal , had violated Article 1 of Protocol No . 1 . They stressed that the Court should note not only the buyer s bad faith , but also that of the sellers , who had bought the immovable property at public auction . Despite the fact that they had been aware of the proceedings by which the applicants father had contested the lawfulness of the sale of his property at public auction , they had sold the estate in order to make its return to its initial owners impossible in case of a favourable decision . They also stressed that , although the proceedings for the annulment of the forced sale had been registered in the land register on 5 January 1998 , the immovable property had been sold on 30 December 1998 .', 'The Government submitted that there was no interference with the applicants property rights . In this connection , they contended that the buyer s good faith should be noted because S.R. had paid the price of the immovable property in 1996 , long before the signing of the sale agreement before the public notary , and accordingly before the proceedings initiated by the applicants father had been registered in the land register . They further maintained that if the Court considered that there was an interference with the applicants rights , such interference was legal , justified and proportionate . The decision rendered in the buyer s favour had been in accordance with the Romanian Civil Code and the principles governing good faith , and could not be considered arbitrary .', '2 . The Court s assessment', '( a ) Whether there was a possession', 'The Court notes that by a decision of 26 April 2000 , the Oradea Court of Appeal allowed the applicants father s action and consequently annulled the forced sale of the immovable property at auction on the ground that the loan had been reimbursed and the price was considerably lower than the real value of the property . On the basis of the retroactive effect of the annulment , the applicants became the owners of the immovable property . They were entitled to the return of their property as a direct consequence of the annulment of the subsequent sale or to the value of their property .', 'The Court therefore considers that the applicants had a possession within the meaning of Article 1 of Protocol No . 1 and consequently dismisses the Government s objection ratione materiae .', '( b ) Whether there was interference', 'Despite the fact that on the basis of the retroactive effect of the annulment the applicants became the owners of the immovable property , they were not able to obtain the subsequent annulment of the sale of their property to a third party .', 'The Court considers that the dismissal by the Oradea Court of Appeal on 8 April 2004 of the applicants action for the annulment of the subsequent sale of their property to S.R. amounted to an interference with the applicants right to the peaceful enjoyment of their possessions .', \"In order to be compatible with the general rule set forth in the first sentence of the first paragraph of Article 1 , such an interference must strike a fair balance between the demands of the general interest of the community and the requirements of the protection of the individual s fundamental rights ( see Sporrong and L nnroth v. Sweden , 23 September 1982 , § 69 , Series A no . 52 ) . Furthermore , the issue of whether a fair balance has been struck becomes relevant only once it has been established that the interference in question satisfied the requirement of lawfulness and was not arbitrary ( see Iatridis v. Greece , 'GC , ', no . 31107/96 , § 58 , ECHR 1999II ) .\", '( c ) Compliance with the principle of lawfulness', \"The Court reiterates that by virtue of Article 1 of the Convention each Contracting Party shall secure to everyone within , 'its , 'jurisdiction the rights and freedoms defined in ... , 'the , 'Convention . The obligation to secure the effective exercise of the rights defined in that instrument may result in positive obligations for the State ( see X and Y v. the Netherlands , 26 March 1985 , § § 22 - 23 , Series A no . 91 ) .\", \"As regards the right guaranteed by Article 1 of Protocol No . 1 to the Convention , the Court reiterates that even in cases involving litigation between individuals and companies , the obligations of the State entail the taking of measures necessary to protect the right of property . In particular , the State is under an obligation to afford the parties to the dispute judicial procedures which offer the necessary procedural guarantees and therefore enable the domestic courts and tribunals to adjudicate effectively and fairly in the light of the applicable law . However , the Court reiterates that its jurisdiction to verify that domestic law has been correctly interpreted and applied is limited and that it is not its function to take the place of the national courts , its role being rather to ensure that the decisions of those courts are not flawed by arbitrariness or otherwise manifestly unreasonable ( see Anheuser - Busch Inc. v. Portugal , 'GC , ', no . 73049/01 , § 83 , ECHR 2007I ) . This means , in particular , that the States are under an obligation to afford judicial procedures that offer the necessary guarantees and therefore enable the domestic courts and tribunals to adjudicate effectively and fairly any disputes between private persons .\", 'In the present case it is clear that the Court is not entitled to call into question the decisions reached by the Romanian courts and tribunals . Its role is instead to verify whether the consequences of their interpretation and application of the domestic law were compatible with the principles laid down in the Convention .', 'In that regard , the Court notes that the domestic court of last resort overturned the judgment given on appeal and rejected the applicants claim on the ground that the purchaser had acted in good faith . The main argument advanced by the two judges of the three - judge panel for retaining the purchaser s good faith was the fact that as the price of the real estate had been established by the parties and paid by the purchaser on 9 October 1996 , it could be considered that the sale agreement was concluded in 1996 . At that time the annulment proceedings initiated by the applicants father were not entered in the land register .', 'The Court can not agree with that conclusion because under Romanian law sale agreements in respect of land must be sworn before a public notary . Any contract regarding the transfer of the ownership right over land which has not been sworn before a public notary is null and void . The Court points out that in the instant case the subject of the sale agreement was a building and its appurtenant land . It considers therefore that a valid sale agreement had only been concluded on 30 December 1998 when the parties signed the agreement before a public notary . At that time the proceedings were registered in the land book and S.R. could not claim that she had not been aware of it .', '42 . As regards the concept of good faith the Court notes that under Article 1898 § 1 of the Civil Code , in force at the relevant time , good faith represented the conviction of the buyer that the seller met all the legal requirements to be able to transfer title .', '43 . The Court further notes that the fate of a sale contract whose annulment is sought depends on the good or bad faith of the parties to it . If the parties acted in bad faith in concluding the contract in that they were aware that the seller was not the owner of the property , legal opinion and the case - law generally consider that the sale was a speculative operation , was unlawful in purpose and , accordingly , that it is null and void ( fraus omnia corrumpit ) . In the instant case both parties were aware that the initial sale agreement could be annulled because the owner of the real property had contested the forced sale in court . However , despite the fact that they knew that the legal status of the property was uncertain they concluded the sale agreement . Furthermore , none of them was ever in possession of the real estate ; the applicants continued to live in their house in spite of several eviction proceedings initiated against them by the subsequent buyers .', '44 . Therefore , in the light of the above considerations the Court finds the decision of the domestic court of last resort unconvincingly reasoned .', 'The Court considers that it is not necessary to continue its examination and assess whether a fair balance was struck between the demands of the general interest and the requirements of the protection of the individual s fundamental rights . The foregoing considerations are sufficient to enable the Court to conclude that the State has failed to comply with its obligation to recognise the applicants right to the effective enjoyment of their possessions as guaranteed by Article 1 of Protocol No . 1 .', 'Consequently , there has been a violation of Article 1 of Protocol No . 1 to the Convention .', 'II . OTHER ALLEGED VIOLATIONS OF THE CONVENTION', 'Lastly , the applicants complained under Article 6 § 1 of the Convention about the alleged unfairness of the proceedings .', 'The Court has examined this complaint as submitted by the applicant . However , having regard to all the material in its possession , and in so far as it fall within its jurisdiction , the Court finds that it does not disclose any appearance of a violation of the rights and freedoms set out in the Convention or its Protocols . It follows that this complaint must be rejected as manifestly ill - founded , pursuant to Article 35 § § 3 and 4 of the Convention .', 'III . APPLICATION OF ARTICLE 41 OF THE CONVENTION', 'Article 41 of the Convention provides :', 'If the Court finds that there has been a violation of the Convention or the Protocols thereto , and if the internal law of the High Contracting Party concerned allows only partial reparation to be made , the Court shall , if necessary , afford just satisfaction to the injured party .', 'A. Damage', '1 . Pecuniary damage', 'The applicants claimed 70,000 euros ( EUR ) in respect of pecuniary damage . The amount of EUR 70,000 represents the market value of the real estate consisting of a house of 150 sq.m and 1,439 sq.m of land located in Osorhei . This valuation was based on a centralised table held by the Chamber of Public Notaries for establishing the value of real estate .', 'The Government submitted that the only court decision in the applicants favour was the decision of the Oradea Court of Appeal of 26 April 2000 by which the forced sale of their property had been annulled . In this connection , the Government contended that they could not be obliged to execute obligations against private individuals . The Government also contested the assessment of the value of the real estate noting that it was not based on a court decision or an expert report , and therefore was of a speculative character . They concluded that a finding of a violation would provide sufficient just satisfaction .', \"The Court reiterates that there must be a clear causal connection between the pecuniary damage claimed by the applicants and the violation of the Convention ( see , among other authorities , ak c v. Turkey , 'GC , ', no . 23657/94 , § 127 , ECHR 1999IV ) . As it has found a violation of Article 1 of Protocol No . 1 the Court considers that there is a direct link between this violation and the pecuniary losses alleged by the applicants .\", 'It further observes that , in so far as the actual damage to property is concerned , the Government disputed the amount indicated by the applicants without indicating another amount . The Court is however satisfied that the centralised table held by the Chamber of Public Notaries for establishing the value of real estate reflected the amount of actual pecuniary damage sustained by the applicants . Therefore , the Court awards the applicants jointly EUR 70,000 in respect of pecuniary damage .', '2 . Non - pecuniary damage', 'The applicants claimed EUR 5,000 in respect of nonpecuniary damage .', 'The Government submitted that the sum of EUR 5,000 in respect of non - pecuniary damage was excessive .', 'The Court observes that it has found a violation of Article 1 of Protocol No . 1 . The applicants must have suffered distress as a result of these circumstances ; however , the amount claimed by the applicant appears excessive . Having regard to these considerations , the Court considers it reasonable to award the applicants jointly , on an equitable basis , EUR 3,300 under this head , plus any tax that may be chargeable on this amount .', 'B. Costs and expenses', 'The applicants did not seek reimbursement of costs and expenses relating to the proceedings before the domestic courts or the Court and this is not a matter which the Court has to examine of its own motion ( see Moti re v. France , no . 39615/98 , § 26 , 5 December 2000 ) .', 'C. Default interest', 'The Court considers it appropriate that the default interest rate should be based on the marginal lending rate of the European Central Bank , to which should be added three percentage points .', 'FOR THESE REASONS , THE COURT', '1 . Joins to the merits the Government s objection as to the inadmissibility ratione materiae of the applicants complaint under Article 1 of Protocol No . 1 to the Convention and rejects it ;', '2 . Declares by a majority , the complaint concerning Article 1 of Protocol No . 1 to the Convention admissible and the remainder of the application inadmissible ;', '3 . Holds by six votes to one , that there has been a violation of Article 1 of Protocol No . 1 to the Convention ;', '4 . Holds , by six votes to one ,', '( a ) that the respondent State is to pay the applicants jointly , within three months from the date on which the judgment becomes final in accordance with Article 44 § 2 of the Convention , the following amounts , to be converted into the currency of the respondent State at the rate applicable at the date of settlement :', '( i ) EUR 70,000 ( seventy thousand euros ) , plus any tax that may be chargeable , in respect of pecuniary damage ;', '( ii ) EUR 3,300 ( three thousand three hundred euros ) , plus any tax that may be chargeable , in respect of non - pecuniary damage ;', '( b ) that from the expiry of the above - mentioned three months until settlement simple interest shall be payable on the above amounts at a rate equal to the marginal lending rate of the European Central Bank during the default period plus three percentage points ;', '5 . Dismisses , unanimously , the remainder of the applicants claim for just satisfaction .', 'Done in English , and notified in writing on 1 July 2014 , pursuant to Rule 77 § § 2 and 3 of the Rules of Court .', 'Santiago Quesada Josep Casadevall Registrar President', 'In accordance with Article 45 § 2 of the Convention and Rule 74 § 2 of the Rules of Court , the separate opinion of Judge ikuta is annexed to this judgment .', 'J.C.M. S.Q.', 'DISSENTING OPINION OF JUDGE IKUTA', 'To my regret , I can not subscribe to the Chamber s finding of a violation of Article 1 of Protocol No . 1 to the Convention .', 'I lacked several important and relevant facts in order to reach a conclusion , and therefore , from my point of view , the case was not ready for decision .', 'In 1994 the applicants father entered into a loan agreement with H.M.C. , offering a mortgage on his immovable property , a building and the appurtenant land located in Osorhei , by way of guarantee .', 'On 3 June 1994 the mortgage was registered with the land registry .', 'As the applicants father did not reimburse the loan on the due date , his property was sold by auction to a family , T.T.T. and T.T.S. , on 31 May 1996 .', 'The right of ownership of the successful bidders in respect of the property was entered in the land register .', 'On 1 July 1996 the applicants father challenged the forced sale , seeking the annulment of the order for the sale of his immovable property . The proceedings were registered at the land registry on 5 January 1998 .', 'Subsequently , on 30 December 1998 , despite the pending proceedings regarding the annulment of the sale by auction , the buyers ( T.T.T. and T.T.S. ) sold the property to a third party , S.R.', 'On 26 April 2000 the Oradea Court of Appeal allowed the action by the applicants father and consequently annulled the forced sale of the property on the grounds that the loan had been reimbursed and the price was considerably lower than the real value of the property . However , he could not recover possession of the property as , in the meantime , it had been sold to S.R.', 'Invoking the principle quod nullum est , nullum producit effectum , he lodged an action with the Oradea District Court seeking the annulment of the two sale agreements : the agreement by which T.T.T. and T.T.S. had acquired the property at auction and the subsequent agreement between T.T.T. and T.T.S. , of the one part , and S.R.', 'From the facts of the instant case there are a number of points that remain unclear : at what point the right of ownership of the successful bidders was entered in the land register , what reasons were given by the applicant s father to challenge the forced sale , what legal consequences arose from the registration of the property in the land register , why the Oradea Court of Appeal annulled the forced sale on 26 April 2000 , to whom the loan had been reimbursed , what the price was , why the price was considerably lower than the real value of the property , what the real value of the property was .', 'In the light of the above , I am convinced that our Court s finding of a violation of Article 1 of Protocol No . 1 is premature .']\n"
     ]
    }
   ],
   "source": [
    "# Get the proper text\n",
    "word_data = data['Word']\n",
    "# Transform into normal text\n",
    "print(word_data[0])\n",
    "new_word = []\n",
    "\n",
    "for sent in word_data:\n",
    "  new_word.append(sent.replace(\"['\", '').replace(\"']\", \"\").replace(\"', '\", \" \"))\n",
    "\n",
    "print(new_word)"
   ],
   "metadata": {
    "collapsed": false,
    "pycharm": {
     "name": "#%%\n"
    }
   }
  },
  {
   "cell_type": "code",
   "execution_count": 7,
   "outputs": [
    {
     "data": {
      "text/plain": "  0%|          | 0/135 [00:00<?, ?it/s]",
      "application/vnd.jupyter.widget-view+json": {
       "version_major": 2,
       "version_minor": 0,
       "model_id": "b9edc1b3d1d547f4bb07281650940eb4"
      }
     },
     "metadata": {},
     "output_type": "display_data"
    }
   ],
   "source": [
    "\n",
    "annotated_data = annotate_by_sentence2(new_word, nlp)"
   ],
   "metadata": {
    "collapsed": false,
    "pycharm": {
     "name": "#%%\n"
    }
   }
  },
  {
   "cell_type": "code",
   "execution_count": 11,
   "outputs": [
    {
     "name": "stdout",
     "output_type": "stream",
     "text": [
      "135\n",
      "135\n"
     ]
    }
   ],
   "source": [
    "# SIZE IS OK\n",
    "print(len(annotated_data))\n",
    "print(len(data[\"Word\"]))"
   ],
   "metadata": {
    "collapsed": false,
    "pycharm": {
     "name": "#%%\n"
    }
   }
  },
  {
   "cell_type": "code",
   "execution_count": 13,
   "outputs": [
    {
     "name": "stdout",
     "output_type": "stream",
     "text": [
      "5447\n",
      "5447\n",
      "5447\n"
     ]
    }
   ],
   "source": [
    "\n",
    "# Transform it all into the right format:\n",
    "# Change format of dataset starting here.\n",
    "import pandas as pd\n",
    "import numpy as np\n",
    "\n",
    "training_sentence = []\n",
    "sentence_count = 1\n",
    "training_text = []\n",
    "training_labels = []\n",
    "pos = []\n",
    "for section in annotated_data:\n",
    "  for entry in section:\n",
    "\n",
    "    training_sentence.append(\"Sentence: \" + str(sentence_count))\n",
    "    flag = False\n",
    "\n",
    "    for datae in entry:\n",
    "      # text data to clean\n",
    "      text_data = str(datae[0])\n",
    "      text_data = text_data.replace(\"\\n\", \"\")\n",
    "      text_data = text_data.replace(\"\\t\", \"\")\n",
    "\n",
    "      # Find escape characters to clean\n",
    "      if \"\\\\\" in text_data:\n",
    "        print(text_data)\n",
    "\n",
    "      # Update sentence tracking\n",
    "      if flag:\n",
    "        training_sentence.append(np.nan)\n",
    "      else:\n",
    "        flag = True\n",
    "\n",
    "      training_text.append(text_data)\n",
    "      training_labels.append(str(datae[1]) + ' ' + str(datae[2]))\n",
    "      pos.append(\"NNS\")\n",
    "      #training_data.append(training_entry)\n",
    "\n",
    "    #break\n",
    "    #if sentence_count >= 2:\n",
    "    #  break\n",
    "    sentence_count += 1\n",
    "\n",
    "  #break\n",
    "\n",
    "print(len(training_sentence))\n",
    "print(len(training_text))\n",
    "print(len(training_labels))"
   ],
   "metadata": {
    "collapsed": false,
    "pycharm": {
     "name": "#%%\n"
    }
   }
  },
  {
   "cell_type": "code",
   "execution_count": 19,
   "outputs": [
    {
     "name": "stdout",
     "output_type": "stream",
     "text": [
      "    Sentence #     Word  POS    Tag\n",
      "0  Sentence: 1    THIRD  NNS  B ORG\n",
      "1          NaN  SECTION  NNS  I ORG\n",
      "2  Sentence: 2     CASE  NNS     O \n",
      "3          NaN       OF  NNS     O \n",
      "4          NaN    BUCEA  NNS     O \n"
     ]
    }
   ],
   "source": [
    "df = pd.DataFrame({\n",
    "  \"Sentence #\": training_sentence,\n",
    "  \"Word\": training_text,\n",
    "  \"POS\": pos,\n",
    "  \"Tag\": training_labels\n",
    "                   })\n",
    "\n",
    "print(df.head())"
   ],
   "metadata": {
    "collapsed": false,
    "pycharm": {
     "name": "#%%\n"
    }
   }
  },
  {
   "cell_type": "code",
   "execution_count": 16,
   "outputs": [],
   "source": [
    "\n",
    "\n",
    "#print(df.head())\n",
    "\n",
    "# Reloop to turn back to the other format:\n",
    "\n",
    "spacy_data = []\n",
    "paragraph = []\n",
    "p_word = []\n",
    "text = \"\"\n",
    "p_tag = []\n",
    "p_text = []\n",
    "p_pos = []\n",
    "for index, row in df.iterrows():\n",
    "  #print(str(row['Sentence #']))\n",
    "  if str(row['Sentence #']) != \"nan\":\n",
    "    if len(p_word) > 0:\n",
    "      spacy_data.append([text, p_word, p_pos, p_tag])\n",
    "      text = \"\"\n",
    "      p_word = []\n",
    "      p_tag = []\n",
    "      p_pos = []\n",
    "\n",
    "  text += row['Word'] + \" \"\n",
    "  p_word.append(row['Word'])\n",
    "  p_tag.append(row['Tag'])\n",
    "  p_pos.append('NNS')\n",
    "\n",
    "  #break"
   ],
   "metadata": {
    "collapsed": false,
    "pycharm": {
     "name": "#%%\n"
    }
   }
  },
  {
   "cell_type": "code",
   "execution_count": 18,
   "outputs": [
    {
     "name": "stdout",
     "output_type": "stream",
     "text": [
      "['THIRD SECTION ', ['THIRD', 'SECTION'], ['NNS', 'NNS'], ['B ORG', 'I ORG']]\n",
      "231\n",
      "                                                Text  \\\n",
      "0                                     THIRD SECTION    \n",
      "1                CASE OF BUCEA AND BUCIA v. ROMANIA    \n",
      "2                     ( Application no . 32185/04 )    \n",
      "3                                          JUDGMENT    \n",
      "4  This version was rectified on 16 December 2014...   \n",
      "\n",
      "                                                Word  \\\n",
      "0                                   [THIRD, SECTION]   \n",
      "1         [CASE, OF, BUCEA, AND, BUCIA, v., ROMANIA]   \n",
      "2               [(, Application, no, ., 32185/04, )]   \n",
      "3                                         [JUDGMENT]   \n",
      "4  [This, version, was, rectified, on, 16, Decemb...   \n",
      "\n",
      "                                                 POS  \\\n",
      "0                                         [NNS, NNS]   \n",
      "1                [NNS, NNS, NNS, NNS, NNS, NNS, NNS]   \n",
      "2                     [NNS, NNS, NNS, NNS, NNS, NNS]   \n",
      "3                                              [NNS]   \n",
      "4  [NNS, NNS, NNS, NNS, NNS, NNS, NNS, NNS, NNS, ...   \n",
      "\n",
      "                                                 Tag  \n",
      "0                                     [B ORG, I ORG]  \n",
      "1                    [O , O , O , O , B ORG, O , O ]  \n",
      "2                   [O , O , O , O , B CARDINAL, O ]  \n",
      "3                                               [O ]  \n",
      "4  [O , O , O , O , O , B DATE, I DATE, I DATE, O...  \n"
     ]
    }
   ],
   "source": [
    "print(spacy_data[0])\n",
    "spacy_df = pd.DataFrame(spacy_data, columns=[\"Text\", \"Word\", \"POS\", \"Tag\"])\n",
    "print(len(spacy_df))\n",
    "print(spacy_df.head())"
   ],
   "metadata": {
    "collapsed": false,
    "pycharm": {
     "name": "#%%\n"
    }
   }
  },
  {
   "cell_type": "code",
   "execution_count": null,
   "outputs": [],
   "source": [],
   "metadata": {
    "collapsed": false,
    "pycharm": {
     "name": "#%%\n"
    }
   }
  }
 ],
 "metadata": {
  "kernelspec": {
   "display_name": "Python 3",
   "language": "python",
   "name": "python3"
  },
  "language_info": {
   "codemirror_mode": {
    "name": "ipython",
    "version": 2
   },
   "file_extension": ".py",
   "mimetype": "text/x-python",
   "name": "python",
   "nbconvert_exporter": "python",
   "pygments_lexer": "ipython2",
   "version": "2.7.6"
  }
 },
 "nbformat": 4,
 "nbformat_minor": 0
}