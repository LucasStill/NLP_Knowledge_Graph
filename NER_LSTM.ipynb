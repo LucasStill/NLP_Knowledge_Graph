{
  "nbformat": 4,
  "nbformat_minor": 0,
  "metadata": {
    "colab": {
      "name": "NER_LSTM.ipynb",
      "provenance": [],
      "collapsed_sections": []
    },
    "kernelspec": {
      "name": "python3",
      "display_name": "Python 3"
    },
    "language_info": {
      "name": "python"
    },
    "accelerator": "GPU"
  },
  "cells": [
    {
      "cell_type": "code",
      "source": [
        "from google.colab import drive\n",
        "drive.mount('/content/drive')"
      ],
      "metadata": {
        "id": "THd3FTYCppkJ"
      },
      "execution_count": null,
      "outputs": []
    },
    {
      "cell_type": "markdown",
      "source": [
        "## Load Libraries"
      ],
      "metadata": {
        "id": "Faq812-uy-Am"
      }
    },
    {
      "cell_type": "code",
      "source": [
        "import pandas as pd\n",
        "import numpy as np\n",
        "import ast\n",
        "from itertools import chain\n",
        "from sklearn.model_selection import train_test_split\n",
        "from keras.preprocessing.sequence import pad_sequences\n",
        "from tensorflow.keras.utils import to_categorical\n",
        "import numpy as np\n",
        "import tensorflow\n",
        "from tensorflow.keras import Sequential, Model, Input\n",
        "from tensorflow.keras.layers import LSTM, Embedding, Dense, TimeDistributed, Dropout, Bidirectional\n",
        "from tensorflow.keras.utils import plot_model\n",
        "from sklearn.metrics import accuracy_score, f1_score, recall_score, precision_score\n",
        "import matplotlib.pyplot as plt"
      ],
      "metadata": {
        "id": "u8xwWDEXy8ig"
      },
      "execution_count": 2,
      "outputs": []
    },
    {
      "cell_type": "markdown",
      "source": [
        "## Prepare data for NER model"
      ],
      "metadata": {
        "id": "FmMmQSkKzAQp"
      }
    },
    {
      "cell_type": "code",
      "source": [
        "# Read data\n",
        "data = pd.read_csv('/content/drive/MyDrive/MRP1/annotated_all.csv', sep=\"|\")\n",
        "data = data.loc[:, ~data.columns.str.contains('^Unnamed')] # remove Unnamed column\n",
        "\n",
        "# Set correct types\n",
        "data['Word'] = data['Word'].apply(ast.literal_eval)\n",
        "data['Word_idx'] = data['Word_idx'].apply(ast.literal_eval)\n",
        "data['Tag'] = data['Tag'].apply(ast.literal_eval)"
      ],
      "metadata": {
        "id": "yzRtg8erpvww"
      },
      "execution_count": 3,
      "outputs": []
    },
    {
      "cell_type": "markdown",
      "source": [
        "### Add indices for all tokens"
      ],
      "metadata": {
        "id": "5AMztobqzIzn"
      }
    },
    {
      "cell_type": "code",
      "metadata": {
        "id": "t2IlWkyFmRRQ"
      },
      "source": [
        "def get_dict_map(data, token_or_tag):\n",
        "    tok2idx = {}\n",
        "    idx2tok = {}\n",
        "    \n",
        "    if token_or_tag == 'token':\n",
        "        vocab = list(set(data['Word'].apply(pd.Series).stack().reset_index(drop = True)))\n",
        "    else:\n",
        "        vocab = list(set(data['Tag'].apply(pd.Series).stack().reset_index(drop = True)))\n",
        "    \n",
        "    idx2tok = {idx:tok for  idx, tok in enumerate(vocab)}\n",
        "    tok2idx = {tok:idx for  idx, tok in enumerate(vocab)}\n",
        "    return tok2idx, idx2tok\n",
        "\n",
        "\n",
        "token2idx, idx2token = get_dict_map(data, 'token')\n",
        "tag2idx, idx2tag = get_dict_map(data, 'tag')"
      ],
      "execution_count": 4,
      "outputs": []
    },
    {
      "cell_type": "markdown",
      "source": [
        "### Add indices to dataframe"
      ],
      "metadata": {
        "id": "Z6DhD4RMzNE0"
      }
    },
    {
      "cell_type": "code",
      "metadata": {
        "colab": {
          "base_uri": "https://localhost:8080/",
          "height": 206
        },
        "id": "GcXUPFg4m4Y5",
        "outputId": "a37ade59-3c67-4fcf-9ee5-59af358e5ff5"
      },
      "source": [
        "def create_token_list(words, token2idx):\n",
        "    return [token2idx[word] for word in words]\n",
        "\n",
        "# Add indices\n",
        "data['Word_idx'] = data['Word'].map(lambda x: create_token_list(x, token2idx))\n",
        "data['Tag_idx'] = data['Tag'].map(lambda x: create_token_list(x, tag2idx))\n",
        "\n",
        "data.head()"
      ],
      "execution_count": 5,
      "outputs": [
        {
          "output_type": "execute_result",
          "data": {
            "text/html": [
              "\n",
              "  <div id=\"df-49bb49c5-8ba5-408b-be4a-35baf351fc92\">\n",
              "    <div class=\"colab-df-container\">\n",
              "      <div>\n",
              "<style scoped>\n",
              "    .dataframe tbody tr th:only-of-type {\n",
              "        vertical-align: middle;\n",
              "    }\n",
              "\n",
              "    .dataframe tbody tr th {\n",
              "        vertical-align: top;\n",
              "    }\n",
              "\n",
              "    .dataframe thead th {\n",
              "        text-align: right;\n",
              "    }\n",
              "</style>\n",
              "<table border=\"1\" class=\"dataframe\">\n",
              "  <thead>\n",
              "    <tr style=\"text-align: right;\">\n",
              "      <th></th>\n",
              "      <th>Word</th>\n",
              "      <th>Word_idx</th>\n",
              "      <th>Tag</th>\n",
              "      <th>Relation</th>\n",
              "      <th>Tag_idx</th>\n",
              "    </tr>\n",
              "  </thead>\n",
              "  <tbody>\n",
              "    <tr>\n",
              "      <th>0</th>\n",
              "      <td>[FOURTH, SECTION]</td>\n",
              "      <td>[29042, 41381]</td>\n",
              "      <td>[B-COURT, I-COURT]</td>\n",
              "      <td>NEGATIVE</td>\n",
              "      <td>[32, 46]</td>\n",
              "    </tr>\n",
              "    <tr>\n",
              "      <th>1</th>\n",
              "      <td>[CASE, OF, BOROVSK, v.]</td>\n",
              "      <td>[11746, 211, 7616, 3843]</td>\n",
              "      <td>[O, O, O, O]</td>\n",
              "      <td>NEGATIVE</td>\n",
              "      <td>[11, 11, 11, 11]</td>\n",
              "    </tr>\n",
              "    <tr>\n",
              "      <th>2</th>\n",
              "      <td>[(, Application, no, ., 24528/02, )]</td>\n",
              "      <td>[7240, 9531, 11248, 34951, 5502, 8293]</td>\n",
              "      <td>[O, O, B-APPLICATION, I-APPLICATION, I-APPLICA...</td>\n",
              "      <td>NEGATIVE</td>\n",
              "      <td>[11, 11, 21, 50, 50, 11]</td>\n",
              "    </tr>\n",
              "    <tr>\n",
              "      <th>3</th>\n",
              "      <td>[JUDGMENT]</td>\n",
              "      <td>[35700]</td>\n",
              "      <td>[O]</td>\n",
              "      <td>NEGATIVE</td>\n",
              "      <td>[11]</td>\n",
              "    </tr>\n",
              "    <tr>\n",
              "      <th>4</th>\n",
              "      <td>[2, June, 2009]</td>\n",
              "      <td>[19913, 9614, 18858]</td>\n",
              "      <td>[O, B-DATE, I-DATE]</td>\n",
              "      <td>NEGATIVE</td>\n",
              "      <td>[11, 1, 33]</td>\n",
              "    </tr>\n",
              "  </tbody>\n",
              "</table>\n",
              "</div>\n",
              "      <button class=\"colab-df-convert\" onclick=\"convertToInteractive('df-49bb49c5-8ba5-408b-be4a-35baf351fc92')\"\n",
              "              title=\"Convert this dataframe to an interactive table.\"\n",
              "              style=\"display:none;\">\n",
              "        \n",
              "  <svg xmlns=\"http://www.w3.org/2000/svg\" height=\"24px\"viewBox=\"0 0 24 24\"\n",
              "       width=\"24px\">\n",
              "    <path d=\"M0 0h24v24H0V0z\" fill=\"none\"/>\n",
              "    <path d=\"M18.56 5.44l.94 2.06.94-2.06 2.06-.94-2.06-.94-.94-2.06-.94 2.06-2.06.94zm-11 1L8.5 8.5l.94-2.06 2.06-.94-2.06-.94L8.5 2.5l-.94 2.06-2.06.94zm10 10l.94 2.06.94-2.06 2.06-.94-2.06-.94-.94-2.06-.94 2.06-2.06.94z\"/><path d=\"M17.41 7.96l-1.37-1.37c-.4-.4-.92-.59-1.43-.59-.52 0-1.04.2-1.43.59L10.3 9.45l-7.72 7.72c-.78.78-.78 2.05 0 2.83L4 21.41c.39.39.9.59 1.41.59.51 0 1.02-.2 1.41-.59l7.78-7.78 2.81-2.81c.8-.78.8-2.07 0-2.86zM5.41 20L4 18.59l7.72-7.72 1.47 1.35L5.41 20z\"/>\n",
              "  </svg>\n",
              "      </button>\n",
              "      \n",
              "  <style>\n",
              "    .colab-df-container {\n",
              "      display:flex;\n",
              "      flex-wrap:wrap;\n",
              "      gap: 12px;\n",
              "    }\n",
              "\n",
              "    .colab-df-convert {\n",
              "      background-color: #E8F0FE;\n",
              "      border: none;\n",
              "      border-radius: 50%;\n",
              "      cursor: pointer;\n",
              "      display: none;\n",
              "      fill: #1967D2;\n",
              "      height: 32px;\n",
              "      padding: 0 0 0 0;\n",
              "      width: 32px;\n",
              "    }\n",
              "\n",
              "    .colab-df-convert:hover {\n",
              "      background-color: #E2EBFA;\n",
              "      box-shadow: 0px 1px 2px rgba(60, 64, 67, 0.3), 0px 1px 3px 1px rgba(60, 64, 67, 0.15);\n",
              "      fill: #174EA6;\n",
              "    }\n",
              "\n",
              "    [theme=dark] .colab-df-convert {\n",
              "      background-color: #3B4455;\n",
              "      fill: #D2E3FC;\n",
              "    }\n",
              "\n",
              "    [theme=dark] .colab-df-convert:hover {\n",
              "      background-color: #434B5C;\n",
              "      box-shadow: 0px 1px 3px 1px rgba(0, 0, 0, 0.15);\n",
              "      filter: drop-shadow(0px 1px 2px rgba(0, 0, 0, 0.3));\n",
              "      fill: #FFFFFF;\n",
              "    }\n",
              "  </style>\n",
              "\n",
              "      <script>\n",
              "        const buttonEl =\n",
              "          document.querySelector('#df-49bb49c5-8ba5-408b-be4a-35baf351fc92 button.colab-df-convert');\n",
              "        buttonEl.style.display =\n",
              "          google.colab.kernel.accessAllowed ? 'block' : 'none';\n",
              "\n",
              "        async function convertToInteractive(key) {\n",
              "          const element = document.querySelector('#df-49bb49c5-8ba5-408b-be4a-35baf351fc92');\n",
              "          const dataTable =\n",
              "            await google.colab.kernel.invokeFunction('convertToInteractive',\n",
              "                                                     [key], {});\n",
              "          if (!dataTable) return;\n",
              "\n",
              "          const docLinkHtml = 'Like what you see? Visit the ' +\n",
              "            '<a target=\"_blank\" href=https://colab.research.google.com/notebooks/data_table.ipynb>data table notebook</a>'\n",
              "            + ' to learn more about interactive tables.';\n",
              "          element.innerHTML = '';\n",
              "          dataTable['output_type'] = 'display_data';\n",
              "          await google.colab.output.renderOutput(dataTable, element);\n",
              "          const docLink = document.createElement('div');\n",
              "          docLink.innerHTML = docLinkHtml;\n",
              "          element.appendChild(docLink);\n",
              "        }\n",
              "      </script>\n",
              "    </div>\n",
              "  </div>\n",
              "  "
            ],
            "text/plain": [
              "                                   Word  ...                   Tag_idx\n",
              "0                     [FOURTH, SECTION]  ...                  [32, 46]\n",
              "1               [CASE, OF, BOROVSK, v.]  ...          [11, 11, 11, 11]\n",
              "2  [(, Application, no, ., 24528/02, )]  ...  [11, 11, 21, 50, 50, 11]\n",
              "3                            [JUDGMENT]  ...                      [11]\n",
              "4                       [2, June, 2009]  ...               [11, 1, 33]\n",
              "\n",
              "[5 rows x 5 columns]"
            ]
          },
          "metadata": {},
          "execution_count": 5
        }
      ]
    },
    {
      "cell_type": "markdown",
      "source": [
        "### Add padding / truncate input"
      ],
      "metadata": {
        "id": "7cg8_2gA2E6q"
      }
    },
    {
      "cell_type": "code",
      "source": [
        "# Pad or truncate sentences\n",
        "def pad_or_truncate(l, max_length=128):\n",
        "    return l[:max_length] + [0] * (max_length - len(l))\n",
        "\n",
        "# Create padded / truncated input\n",
        "X = np.array(list(map(pad_or_truncate, data.Word_idx)))\n",
        "Y = to_categorical(np.array(list(map(pad_or_truncate, data.Tag_idx))))\n",
        "\n",
        "# CREATE TRAIN AND TEST SET (80, 20, RESPECTIVELY)\n",
        "X_train, X_test, Y_train, Y_test = train_test_split(X, Y, train_size=.8, random_state=12345)"
      ],
      "metadata": {
        "id": "ClBdLUH5z2Q-"
      },
      "execution_count": 17,
      "outputs": []
    },
    {
      "cell_type": "markdown",
      "source": [
        "## Create model"
      ],
      "metadata": {
        "id": "2dM4FKg42GSy"
      }
    },
    {
      "cell_type": "code",
      "metadata": {
        "colab": {
          "base_uri": "https://localhost:8080/"
        },
        "id": "cJv8D7Y5nfkn",
        "outputId": "e9d63a92-2ce9-46ef-dd39-13679ad38948"
      },
      "source": [
        "input_dim = len(token2idx.keys())+1\n",
        "output_dim = len(tag2idx.keys())\n",
        "input_length = 128\n",
        "n_tags = len(tag2idx)\n",
        "print('input_dim: ', input_dim, '\\noutput_dim: ', output_dim, '\\ninput_length: ', input_length, '\\nn_tags: ', n_tags)"
      ],
      "execution_count": 18,
      "outputs": [
        {
          "output_type": "stream",
          "name": "stdout",
          "text": [
            "input_dim:  41705 \n",
            "output_dim:  51 \n",
            "input_length:  128 \n",
            "n_tags:  51\n"
          ]
        }
      ]
    },
    {
      "cell_type": "code",
      "metadata": {
        "id": "VaJIpIy2qRlA",
        "colab": {
          "base_uri": "https://localhost:8080/"
        },
        "outputId": "b902b973-3ad4-4c6e-fc28-51a8fd645603"
      },
      "source": [
        "# Design model\n",
        "model = Sequential()\n",
        "\n",
        "# Add Embedding layer\n",
        "model.add(Embedding(input_dim=input_dim, output_dim=output_dim, input_length=input_length))\n",
        "\n",
        "# Add bidirectional LSTM\n",
        "model.add(Bidirectional(LSTM(units=output_dim, return_sequences=True, dropout=0.2, recurrent_dropout=0.2), merge_mode = 'concat'))\n",
        "\n",
        "# Add timeDistributed Layer\n",
        "model.add(TimeDistributed(Dense(n_tags, activation=\"relu\")))\n",
        "\n",
        "# Compile model\n",
        "model.compile(loss='categorical_crossentropy', optimizer='adam', metrics=['accuracy'])\n",
        "model.summary()"
      ],
      "execution_count": 22,
      "outputs": [
        {
          "output_type": "stream",
          "name": "stdout",
          "text": [
            "Model: \"sequential_4\"\n",
            "_________________________________________________________________\n",
            " Layer (type)                Output Shape              Param #   \n",
            "=================================================================\n",
            " embedding_4 (Embedding)     (None, 128, 51)           2126955   \n",
            "                                                                 \n",
            " bidirectional_4 (Bidirectio  (None, 128, 102)         42024     \n",
            " nal)                                                            \n",
            "                                                                 \n",
            " time_distributed_4 (TimeDis  (None, 128, 51)          5253      \n",
            " tributed)                                                       \n",
            "                                                                 \n",
            "=================================================================\n",
            "Total params: 2,174,232\n",
            "Trainable params: 2,174,232\n",
            "Non-trainable params: 0\n",
            "_________________________________________________________________\n"
          ]
        }
      ]
    },
    {
      "cell_type": "markdown",
      "source": [
        "## Train model"
      ],
      "metadata": {
        "id": "3hXpsARG2IkN"
      }
    },
    {
      "cell_type": "code",
      "metadata": {
        "id": "HZtua-z9qWW_"
      },
      "source": [
        "history = list()\n",
        "epochs = 15\n",
        "# fit model for one epoch on this sequence\n",
        "hist = model.fit(X_train, Y_train, batch_size=128, verbose=1, epochs=epochs, validation_split=0.2)"
      ],
      "execution_count": null,
      "outputs": []
    },
    {
      "cell_type": "markdown",
      "source": [
        "### Show results during training"
      ],
      "metadata": {
        "id": "y6lgpTsq2KYo"
      }
    },
    {
      "cell_type": "code",
      "source": [
        "# PLOT RESULTS\n",
        "plt.plot(hist.history['accuracy'])\n",
        "plt.plot(hist.history['val_accuracy'])\n",
        "plt.xlabel(\"Epochs\")\n",
        "plt.ylabel(\"Accuracy\")\n",
        "plt.show()"
      ],
      "metadata": {
        "id": "5CVrWCdYwE7i"
      },
      "execution_count": null,
      "outputs": []
    },
    {
      "cell_type": "markdown",
      "source": [
        "# Test performance on testet"
      ],
      "metadata": {
        "id": "GpE_kMFs2OEY"
      }
    },
    {
      "cell_type": "code",
      "source": [
        "pred = model.predict(X_test).argmax(axis=2).reshape(-1)\n",
        "true = Y_test.argmax(axis=2).reshape(-1)"
      ],
      "metadata": {
        "id": "daMCRT98wdK5"
      },
      "execution_count": 25,
      "outputs": []
    },
    {
      "cell_type": "code",
      "source": [
        "print(\"Performance on testset:\\n\" + \n",
        "      \"NER:\\n\"\n",
        "      \"Accuracy: {:.4f}\\n\".format(accuracy_score(true, pred)) + \n",
        "      \"Precision: {:.4f}\\n\".format(precision_score(true, pred, average='weighted')) + \n",
        "      \"Recall: {:.4f}\\n\".format(recall_score(true, pred, average='weighted')) + \n",
        "      \"F1-Score: {:.4f}\".format(f1_score(true, pred, average='weighted')))"
      ],
      "metadata": {
        "id": "gpXBDKkExL6Q",
        "colab": {
          "base_uri": "https://localhost:8080/"
        },
        "outputId": "8f6c5b70-c8a7-4c6c-cce0-cf6327416ea5"
      },
      "execution_count": 26,
      "outputs": [
        {
          "output_type": "stream",
          "name": "stderr",
          "text": [
            "/usr/local/lib/python3.7/dist-packages/sklearn/metrics/_classification.py:1318: UndefinedMetricWarning: Precision is ill-defined and being set to 0.0 in labels with no predicted samples. Use `zero_division` parameter to control this behavior.\n",
            "  _warn_prf(average, modifier, msg_start, len(result))\n"
          ]
        },
        {
          "output_type": "stream",
          "name": "stdout",
          "text": [
            "Performance on testset:\n",
            "NER:\n",
            "Accuracy: 0.9510\n",
            "Precision: 0.9430\n",
            "Recall: 0.9510\n",
            "F1-Score: 0.9321\n"
          ]
        }
      ]
    }
  ]
}